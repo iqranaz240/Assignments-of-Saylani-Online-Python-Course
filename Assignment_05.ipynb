{
 "cells": [
  {
   "cell_type": "code",
   "execution_count": 3,
   "metadata": {},
   "outputs": [
    {
     "name": "stdout",
     "output_type": "stream",
     "text": [
      "The factorial of the number is 120\n"
     ]
    }
   ],
   "source": [
    "def factorial(num):\n",
    "    fact=1\n",
    "    if num < 0:\n",
    "        print(\"No factorial for negative Number\")\n",
    "    elif num == 0:\n",
    "        print(\"The factorial of 0 is 1\")\n",
    "    else:\n",
    "        for i in range(1,num + 1):\n",
    "             fact=fact * i\n",
    "        print(\"The factorial of the number is \" + str(fact))\n",
    "factorial(5)"
   ]
  },
  {
   "cell_type": "code",
   "execution_count": 5,
   "metadata": {},
   "outputs": [
    {
     "name": "stdout",
     "output_type": "stream",
     "text": [
      "Upper case letters: 3\n",
      "Lower case letter:7\n"
     ]
    }
   ],
   "source": [
    "def cal_ul(string):\n",
    "    upr=0\n",
    "    lwr=0\n",
    "    for i in string:\n",
    "        if i.isupper():\n",
    "            upr=upr + 1\n",
    "        elif i.islower():\n",
    "            lwr=lwr + 1\n",
    "    print(\"Upper case letters: \" + str(upr))\n",
    "    print(\"Lower case letter: \" + str(lwr))      \n",
    "cal_ul(\"I am Iqra Naz\")"
   ]
  },
  {
   "cell_type": "code",
   "execution_count": 6,
   "metadata": {},
   "outputs": [
    {
     "name": "stdout",
     "output_type": "stream",
     "text": [
      "Even no :2\n",
      "Even no :4\n",
      "Even no :6\n",
      "Even no :8\n"
     ]
    }
   ],
   "source": [
    "city_index=[1,2,3,4,5,6,7,8]\n",
    "for i in city_index:\n",
    "    if i % 2 == 0:\n",
    "        print(\"Even no :\" + str(i))"
   ]
  },
  {
   "cell_type": "code",
   "execution_count": 7,
   "metadata": {},
   "outputs": [
    {
     "name": "stdout",
     "output_type": "stream",
     "text": [
      "Enter a string   iqra\n",
      "The string is  not Palindrome\n"
     ]
    }
   ],
   "source": [
    "def check_str(string):\n",
    "    rev=string[::-1]\n",
    "    if string == rev:\n",
    "        print(\"The string is Palindrome \")\n",
    "    else:\n",
    "        print(\"The string is  not Palindrome\")\n",
    "    \n",
    "a=input(\"Enter a string   \")\n",
    "check_str(a)"
   ]
  },
  {
   "cell_type": "code",
   "execution_count": 16,
   "metadata": {},
   "outputs": [
    {
     "name": "stdout",
     "output_type": "stream",
     "text": [
      "Enter a Number to check weather it is prime or not: 6\n"
     ]
    },
    {
     "data": {
      "text/plain": [
       "' It is not a Prime Number.'"
      ]
     },
     "execution_count": 16,
     "metadata": {},
     "output_type": "execute_result"
    }
   ],
   "source": [
    "def chk_prime(num):\n",
    "    if num == 1:\n",
    "        return False\n",
    "    elif num == 2:\n",
    "        return True\n",
    "    else:\n",
    "        for i in range(2,num):\n",
    "            if(num % i == 0):\n",
    "                return \" It is not a Prime Number.\"\n",
    "        return 'It is a Prime Number.'  \n",
    "num=int(input(\"Enter a Number to check weather it is prime or not: \"))\n",
    "chk_prime(num)\n"
   ]
  },
  {
   "cell_type": "code",
   "execution_count": 2,
   "metadata": {},
   "outputs": [
    {
     "name": "stdout",
     "output_type": "stream",
     "text": [
      "The Soap is : 3 Cakes\n",
      "The Butter is : 500 mg\n",
      "Electronics_item: Microwave\n",
      "Biscuits: Oreo\n"
     ]
    }
   ],
   "source": [
    "def display_item(Soap,Butter, **other_info):\n",
    "    print(\"The Soap is : \" + Soap)\n",
    "    print(\"The Butter is : \" + Butter)\n",
    "    for key, value in other_info.items():\n",
    "        print(key + \": \" + value)\n",
    "\n",
    "display_item(Soap=\"3 Cakes\", Butter=\"500 mg\", Electronics_item =\"Microwave\", Biscuits='Oreo',)"
   ]
  },
  {
   "cell_type": "code",
   "execution_count": null,
   "metadata": {},
   "outputs": [],
   "source": []
  }
 ],
 "metadata": {
  "kernelspec": {
   "display_name": "Python 3",
   "language": "python",
   "name": "python3"
  },
  "language_info": {
   "codemirror_mode": {
    "name": "ipython",
    "version": 3
   },
   "file_extension": ".py",
   "mimetype": "text/x-python",
   "name": "python",
   "nbconvert_exporter": "python",
   "pygments_lexer": "ipython3",
   "version": "3.7.3"
  }
 },
 "nbformat": 4,
 "nbformat_minor": 2
}
