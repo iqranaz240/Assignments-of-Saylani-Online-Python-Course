{
 "cells": [
  {
   "cell_type": "code",
   "execution_count": null,
   "metadata": {},
   "outputs": [],
   "source": [
    "class car():\n",
    "    def __init__(self,name,model,color,mailage,price):\n",
    "        self.name = name\n",
    "        self.model = model\n",
    "        self.color = color\n",
    "        self.mailage = mailage\n",
    "        self.price =  price\n",
    "        \n",
    "car1 = car('suzuki alto','2011','balck','3km- 1ltr','Rs.500000')\n",
    "\n",
    "print('\\nCar Name :',cars.name)\n",
    "print('\\nCar Model :',cars.model)\n",
    "print('\\nCar Color :',cars.color)\n",
    "print('\\nCar Milage :',cars.mailage)\n",
    "print('\\nCar Price :',cars.price)"
   ]
  }
 ],
 "metadata": {
  "kernelspec": {
   "display_name": "Python 3",
   "language": "python",
   "name": "python3"
  },
  "language_info": {
   "codemirror_mode": {
    "name": "ipython",
    "version": 3
   },
   "file_extension": ".py",
   "mimetype": "text/x-python",
   "name": "python",
   "nbconvert_exporter": "python",
   "pygments_lexer": "ipython3",
   "version": "3.7.4"
  }
 },
 "nbformat": 4,
 "nbformat_minor": 2
}
