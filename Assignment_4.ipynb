{
 "cells": [
  {
   "cell_type": "code",
   "execution_count": 6,
   "metadata": {},
   "outputs": [
    {
     "name": "stdout",
     "output_type": "stream",
     "text": [
      "{'first_name': 'Mahi', 'last_name': 'Irshad', 'age': 20, 'city': 'Karachi'}\n",
      "{'first_name': 'Mahi', 'last_name': 'Irshad', 'age': 20, 'city': 'Karachi', 'qualification': 'high academic level'}\n",
      "{'first_name': 'Mahi', 'last_name': 'Irshad', 'age': 20, 'city': 'Karachi'}\n"
     ]
    }
   ],
   "source": [
    "person = {\n",
    "    \"first_name\" : \"Mahi\",\n",
    "    \"last_name\" : \"Irshad\",\n",
    "    \"age\" : 20,\n",
    "    \"city\" : \"Karachi\",\n",
    "}\n",
    "print(person)\n",
    "person[\"qualification\"] = \"high academic level\"\n",
    "print(person)\n",
    "del person[\"qualification\"]\n",
    "print(person)"
   ]
  },
  {
   "cell_type": "code",
   "execution_count": 1,
   "metadata": {},
   "outputs": [
    {
     "name": "stdout",
     "output_type": "stream",
     "text": [
      "{'karachi': {'country': 'pakistan', 'approxcimat papulation': '15,741,000 Growth rate 2.21% (2019)', 'fact': 'karachi is more then 4 times the size of new york city(in therms of city proper)'}, 'istanbul': {'country': 'turkey', 'approxcimate population': '15.07 million', 'fact': 'isanbul is the only city in the world which is both in Europe and Asia  Geographically'}, 'newyork': {'country': 'america', 'approxcimate population': '8,398,748 (2019)', 'fact': 'New York City Is The Largest City Of United States'}}\n"
     ]
    }
   ],
   "source": [
    "cities = {\n",
    "   \"karachi\":{\n",
    "        \"country\":\"pakistan\",\n",
    "        \"approxcimat papulation\": \"15,741,000 Growth rate 2.21% (2019)\",\n",
    "        \"fact\":\"karachi is more then 4 times the size of new york city(in therms of city proper)\"\n",
    "    },\n",
    " \n",
    "    \"istanbul\":{\n",
    "        \"country\":\"turkey\",\n",
    "        \"approxcimate population\":\"15.07 million\",\n",
    "        \"fact\":\"isanbul is the only city in the world which is both in Europe and Asia  Geographically\",\n",
    "    },\n",
    "           \n",
    "    \"newyork\":{\n",
    "        \"country\":\"america\",\n",
    "        \"approxcimate population\": \"8,398,748 (2019)\",\n",
    "        \"fact\": \"New York City Is The Largest City Of United States\"\n",
    "    }                    \n",
    "     \n",
    "}\n",
    "print(cities)"
   ]
  },
  {
   "cell_type": "code",
   "execution_count": 3,
   "metadata": {},
   "outputs": [
    {
     "name": "stdout",
     "output_type": "stream",
     "text": [
      "mybook\n",
      "  One of my Favourtie book is Al-Chemist.\n"
     ]
    }
   ],
   "source": [
    "  def favorite_book(title,message):\n",
    "    complete_name = title + \" \" + message\n",
    "    print(complete_name)\n",
    "    \n",
    "favorite_book(title = \"MyBook\\n\", message = \" One of my Favourtie book is Al-Chemist.\")"
   ]
  },
  {
   "cell_type": "code",
   "execution_count": 5,
   "metadata": {},
   "outputs": [
    {
     "name": "stdout",
     "output_type": "stream",
     "text": [
      "Welcome\n",
      "Enter The Number Of Person :1\n",
      "Enter The Age Of Person :13\n",
      "Your Ticket Price  Will Be $15\n",
      "Total Ammount =  15\n"
     ]
    }
   ],
   "source": [
    "print(\"Welcome\")\n",
    "persons = int (input(\"Enter The Number Of Person :\"))\n",
    "\n",
    "total_price = 0 \n",
    "\n",
    "for i in range(1,persons + 1):\n",
    "    age = int(input(\"Enter The Age Of Person :\"))\n",
    "    if age <= 3:\n",
    "        print(\"Your Ticket Is Free Have Fun\")\n",
    "    elif age <= 12 :\n",
    "        print(\"Your Ticket Fee Is $10\")\n",
    "        total_price += 10\n",
    "    else: \n",
    "        print(\"Your Ticket Price  Will Be $15\")\n",
    "        total_price += 15\n",
    "print(\"Total Ammount = \",total_price)\n",
    " "
   ]
  },
  {
   "cell_type": "code",
   "execution_count": 7,
   "metadata": {},
   "outputs": [
    {
     "name": "stdout",
     "output_type": "stream",
     "text": [
      "Guess a Number12\n",
      "Too High\n",
      "Guess a Number10\n",
      "Too High\n",
      "Guess a Number9\n",
      "Too High\n",
      "Guess a Number3\n",
      "You Got It The Correct Number\n",
      "Number Of Tries: 4\n"
     ]
    }
   ],
   "source": [
    "import random \n",
    "secret = random.randrange(1,30)\n",
    "\n",
    "guess = 0\n",
    "tries = 0\n",
    "\n",
    "while guess != secret:\n",
    "    guess = int(input(\"Guess a Number\"))\n",
    "    tries = tries + 1\n",
    "    if guess > secret:\n",
    "        print(\"Too High\")\n",
    "    elif guess < secret :\n",
    "        print(\"Too Low\")\n",
    "    else :\n",
    "        print (\"You Got It The Correct Number\")\n",
    "        \n",
    "print(\"Number Of Tries:\",tries)"
   ]
  }
 ],
 "metadata": {
  "kernelspec": {
   "display_name": "Python 3",
   "language": "python",
   "name": "python3"
  },
  "language_info": {
   "codemirror_mode": {
    "name": "ipython",
    "version": 3
   },
   "file_extension": ".py",
   "mimetype": "text/x-python",
   "name": "python",
   "nbconvert_exporter": "python",
   "pygments_lexer": "ipython3",
   "version": "3.7.4"
  }
 },
 "nbformat": 4,
 "nbformat_minor": 2
}
