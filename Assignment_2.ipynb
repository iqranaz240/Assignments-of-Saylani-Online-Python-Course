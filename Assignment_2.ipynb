{
 "cells": [
  {
   "cell_type": "code",
   "execution_count": 7,
   "metadata": {},
   "outputs": [
    {
     "name": "stdout",
     "output_type": "stream",
     "text": [
      "Enter marks here: -12\n",
      "Invalid Marks.\n"
     ]
    }
   ],
   "source": [
    "marks=int(input(\"Enter marks here: \"))\n",
    "if marks<=100 and marks>=80:\n",
    "    print(\"Grade: A+\")\n",
    "elif marks<80 and marks>=70:\n",
    "    print(\"Grade: A\")\n",
    "elif marks<70 and marks>=60:\n",
    "    print(\"Grade: B\")\n",
    "elif marks<60 and marks>=50:\n",
    "    print(\"Grade: C\")\n",
    "elif marks<50 and marks>=40:\n",
    "    print(\"Grade: D\")\n",
    "elif marks<40 and marks>=33:\n",
    "    print(\"Grade: E\")\n",
    "elif marks<33 and marks>=0:\n",
    "    print(\"Grade: F\")\n",
    "else:\n",
    "    print(\"Invalid Marks.\")\n",
    "\n",
    "\n",
    "\n",
    "\n",
    "        \n"
   ]
  },
  {
   "cell_type": "code",
   "execution_count": null,
   "metadata": {},
   "outputs": [],
   "source": []
  },
  {
   "cell_type": "code",
   "execution_count": null,
   "metadata": {},
   "outputs": [],
   "source": []
  }
 ],
 "metadata": {
  "kernelspec": {
   "display_name": "Python 3",
   "language": "python",
   "name": "python3"
  },
  "language_info": {
   "codemirror_mode": {
    "name": "ipython",
    "version": 3
   },
   "file_extension": ".py",
   "mimetype": "text/x-python",
   "name": "python",
   "nbconvert_exporter": "python",
   "pygments_lexer": "ipython3",
   "version": "3.7.4"
  }
 },
 "nbformat": 4,
 "nbformat_minor": 2
}
