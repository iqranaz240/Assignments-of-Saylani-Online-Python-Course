{
 "cells": [
  {
   "cell_type": "code",
   "execution_count": 2,
   "metadata": {},
   "outputs": [
    {
     "name": "stdout",
     "output_type": "stream",
     "text": [
      "Twinkle, twinkle, little star,\n",
      " \t How I wonder what you are!\n",
      "\t \t Up above the world so high, \n",
      " \t \t Like a diamond in the sky.\n",
      "Twinkle, twinkle, little star,\n",
      " \t How I wonder what you are!\n"
     ]
    }
   ],
   "source": [
    "a=\"Twinkle, twinkle, little star,\\n \\t How I wonder what you are!\"\n",
    "b=\"\\t \\t Up above the world so high, \\n \\t \\t Like a diamond in the sky.\"\n",
    "print(a)\n",
    "print(b)\n",
    "print(a)"
   ]
  },
  {
   "cell_type": "code",
   "execution_count": 3,
   "metadata": {},
   "outputs": [
    {
     "name": "stdout",
     "output_type": "stream",
     "text": [
      "Python Version\n",
      "3.7.4 (default, Aug  9 2019, 18:34:13) [MSC v.1915 64 bit (AMD64)]\n"
     ]
    }
   ],
   "source": [
    "import sys\n",
    "print(\"Python Version\")\n",
    "print(sys.version)"
   ]
  },
  {
   "cell_type": "code",
   "execution_count": 5,
   "metadata": {},
   "outputs": [
    {
     "name": "stdout",
     "output_type": "stream",
     "text": [
      "Date and Time\n",
      "2019-11-03 16:04:16.420875\n"
     ]
    }
   ],
   "source": [
    "import datetime\n",
    "print(\"Date and Time\")\n",
    "now=datetime.datetime.now()\n",
    "print(now)"
   ]
  },
  {
   "cell_type": "code",
   "execution_count": 6,
   "metadata": {},
   "outputs": [
    {
     "name": "stdout",
     "output_type": "stream",
     "text": [
      "Enter the radius of Circle:5\n",
      "Area of Circle is:  78.57142857142857\n"
     ]
    }
   ],
   "source": [
    "rad=int(input(\"Enter the radius of Circle:\"))\n",
    "area=(22/7)*float(rad**2)\n",
    "print(\"Area of Circle is: \",area)"
   ]
  },
  {
   "cell_type": "code",
   "execution_count": 8,
   "metadata": {},
   "outputs": [
    {
     "name": "stdout",
     "output_type": "stream",
     "text": [
      "Enter your First Name: Iqra\n",
      "Enter your Last Name: Naz\n",
      "Naz Iqra\n"
     ]
    }
   ],
   "source": [
    "fname=input(\"Enter your First Name: \")\n",
    "lname=input(\"Enter your Last Name: \")\n",
    "print(lname + \" \" + fname)"
   ]
  },
  {
   "cell_type": "code",
   "execution_count": 10,
   "metadata": {},
   "outputs": [
    {
     "name": "stdout",
     "output_type": "stream",
     "text": [
      "Enter first no.: 3\n",
      "Enter second no.: 4\n",
      "Sum of two no. is: 7\n"
     ]
    }
   ],
   "source": [
    "a=int(input(\"Enter first no.: \"))\n",
    "b=int(input(\"Enter second no.: \"))\n",
    "c=a+b\n",
    "print(\"Sum of two no. is:\" ,c)"
   ]
  },
  {
   "cell_type": "code",
   "execution_count": null,
   "metadata": {},
   "outputs": [],
   "source": []
  }
 ],
 "metadata": {
  "kernelspec": {
   "display_name": "Python 3",
   "language": "python",
   "name": "python3"
  },
  "language_info": {
   "codemirror_mode": {
    "name": "ipython",
    "version": 3
   },
   "file_extension": ".py",
   "mimetype": "text/x-python",
   "name": "python",
   "nbconvert_exporter": "python",
   "pygments_lexer": "ipython3",
   "version": "3.7.4"
  }
 },
 "nbformat": 4,
 "nbformat_minor": 2
}
