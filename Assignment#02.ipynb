{
 "cells": [
  {
   "cell_type": "code",
   "execution_count": 2,
   "metadata": {},
   "outputs": [
    {
     "name": "stdout",
     "output_type": "stream",
     "text": [
      "****************** MARK SHEET ********************\n",
      "Marks in English:89\n",
      "Marks in Urdu:90\n",
      "Marks in Mathematics:99\n",
      "Marks in Physics:85\n",
      "Marks in Islamiat:94\n",
      "Total Marks: 457\n",
      "Grade A+\n"
     ]
    }
   ],
   "source": [
    "print(\"****************** MARK SHEET ********************\")\n",
    "eng= int(input(\"Marks in English:\"))\n",
    "urdu= int(input(\"Marks in Urdu:\"))\n",
    "maths= int(input(\"Marks in Mathematics:\"))\n",
    "phy= int(input(\"Marks in Physics:\"))\n",
    "isl= int(input(\"Marks in Islamiat:\"))\n",
    "tmarks= eng+urdu+maths+phy+isl\n",
    "print(\"Total Marks:\", tmarks)\n",
    "per= tmarks/500*100\n",
    "if per<=100 and per>=80:\n",
    "    print(\"Grade A+\")\n",
    "elif per<80 and per>=70:\n",
    "    print(\"Grade A\")\n",
    "elif per<70 and per>=60:\n",
    "    print(\"Grade B\")\n",
    "elif per<60 and per>=50:\n",
    "    print(\"Grade C\")\n",
    "elif per<50 and per>=40:\n",
    "    print(\"Grade D\")\n",
    "elif per<40 and per>=33:\n",
    "    print(\"Grade E\")\n",
    "else:\n",
    "    print(\"Failed\")"
   ]
  },
  {
   "cell_type": "code",
   "execution_count": 6,
   "metadata": {},
   "outputs": [
    {
     "name": "stdout",
     "output_type": "stream",
     "text": [
      "Enter any Number:7\n",
      "Odd Number\n"
     ]
    }
   ],
   "source": [
    "num=int(input(\"Enter any Number:\"))\n",
    "if num%2==0:\n",
    "    print(\"It is an Even Number\")\n",
    "else:\n",
    "    print(\"It is an Odd Number\")"
   ]
  },
  {
   "cell_type": "code",
   "execution_count": 6,
   "metadata": {},
   "outputs": [
    {
     "name": "stdout",
     "output_type": "stream",
     "text": [
      "12\n"
     ]
    }
   ],
   "source": [
    "list=[23, 46, \"python\", 67, 12,\"girl\", 345,12,\"student\", 33,11,34]\n",
    "print(len(list))"
   ]
  },
  {
   "cell_type": "code",
   "execution_count": 1,
   "metadata": {},
   "outputs": [
    {
     "name": "stdout",
     "output_type": "stream",
     "text": [
      "181\n"
     ]
    }
   ],
   "source": [
    "num_list=[23, 56, -2, -89, 45, 78, 70]\n",
    "print(sum(num_list))"
   ]
  },
  {
   "cell_type": "code",
   "execution_count": 2,
   "metadata": {},
   "outputs": [
    {
     "name": "stdout",
     "output_type": "stream",
     "text": [
      "19\n"
     ]
    }
   ],
   "source": [
    "arr=[2, 5, 6, 15, -3, 9, -12, -19, 4, 8, 12, 19]\n",
    "print(max(arr))"
   ]
  },
  {
   "cell_type": "code",
   "execution_count": 10,
   "metadata": {},
   "outputs": [
    {
     "name": "stdout",
     "output_type": "stream",
     "text": [
      "1\n",
      "1\n",
      "2\n",
      "3\n",
      "4\n",
      "3\n",
      "4\n"
     ]
    }
   ],
   "source": [
    "list=[1, 1, 2, 3, 4, 5,8, 13, 21, 3, 4, 34, 55, 89]\n",
    "for i in range(0,len(list)):\n",
    "    if list[i]<5:\n",
    "        print(list[i])"
   ]
  }
 ],
 "metadata": {
  "kernelspec": {
   "display_name": "Python 3",
   "language": "python",
   "name": "python3"
  },
  "language_info": {
   "codemirror_mode": {
    "name": "ipython",
    "version": 3
   },
   "file_extension": ".py",
   "mimetype": "text/x-python",
   "name": "python",
   "nbconvert_exporter": "python",
   "pygments_lexer": "ipython3",
   "version": "3.7.4"
  }
 },
 "nbformat": 4,
 "nbformat_minor": 2
}
