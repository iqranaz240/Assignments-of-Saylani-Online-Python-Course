{
 "cells": [
  {
   "cell_type": "code",
   "execution_count": 2,
   "metadata": {},
   "outputs": [
    {
     "name": "stdout",
     "output_type": "stream",
     "text": [
      "Enter 1st number: 6\n",
      "Enter what operation you want to perform: ^\n",
      "Enter 2nd number: 5\n",
      "Output is: 7776\n"
     ]
    }
   ],
   "source": [
    "num1=int(input(\"Enter 1st number: \"))\n",
    "op=input(\"Enter what operation you want to perform: \")\n",
    "num2=int(input(\"Enter 2nd number: \"))\n",
    "if op == '+':\n",
    "    sum = num1+num2\n",
    "    print('Output is:',sum)\n",
    "elif op == '-':\n",
    "    print('Output is:',num1-num2)\n",
    "elif op =='*':\n",
    "    print('Output is:',num1*num2)\n",
    "elif op =='/':\n",
    "    print('Output is:',num1/num2)\n",
    "elif op =='^':\n",
    "    print('Output is:',num1**num2)\n",
    "else:\n",
    "    print('Invalid Input')"
   ]
  },
  {
   "cell_type": "code",
   "execution_count": 17,
   "metadata": {},
   "outputs": [
    {
     "name": "stdout",
     "output_type": "stream",
     "text": [
      "30 is a numerics value.\n",
      "56 is a numerics value.\n",
      "301 is a numerics value.\n",
      "45.56 is a numerics value.\n"
     ]
    }
   ],
   "source": [
    "items = [\"iqra\", \"naz\", 30, 56, \"student\", 301, \"NED\", 45.56]\n",
    "for i in items:\n",
    "    if type(i) == int:\n",
    "        print (i, \"is a numerics value.\")\n",
    "    elif type(i) == float:\n",
    "        print (i, \"is a numerics value.\")"
   ]
  },
  {
   "cell_type": "code",
   "execution_count": 10,
   "metadata": {},
   "outputs": [
    {
     "name": "stdout",
     "output_type": "stream",
     "text": [
      "{'First name': 'Iqra', 'Last name': 'Naz', 'Roll no.': 'SE-301', 'Year': 'Third', 'Department': 'Software Engineering'}\n",
      "{'First name': 'Iqra', 'Last name': 'Naz', 'Roll no.': 'SE-301', 'Year': 'Third', 'Department': 'Software Engineering', 'University': 'NEDUET'}\n"
     ]
    }
   ],
   "source": [
    "Student = {\"First name\": \"Iqra\",\n",
    "           \"Last name\": \"Naz\", \n",
    "           \"Roll no.\": \"SE-301\",\n",
    "           \"Year\": \"Third\",\n",
    "           \"Department\": \"Software Engineering\",\n",
    "          }\n",
    "print(Student)\n",
    "Student[\"University\"]=\"NEDUET\"\n",
    "print(Student)"
   ]
  },
  {
   "cell_type": "code",
   "execution_count": 12,
   "metadata": {},
   "outputs": [
    {
     "name": "stdout",
     "output_type": "stream",
     "text": [
      "{'CG': 37, 'PL': 40, 'OOP': 39, 'SDA': 40, 'PS': 38, 'OS': 39, 'DSA': 40}\n",
      "Total Marks: 273\n"
     ]
    }
   ],
   "source": [
    "Sessional_Marks = {\"CG\":37, \"PL\":40, \"OOP\":39, \"SDA\":40, \"PS\":38, \"OS\":39, \"DSA\":40}\n",
    "print(Sessional_Marks)\n",
    "print(\"Total Marks:\",sum(Sessional_Marks.values()))"
   ]
  },
  {
   "cell_type": "code",
   "execution_count": 24,
   "metadata": {},
   "outputs": [
    {
     "name": "stdout",
     "output_type": "stream",
     "text": [
      "Repeated items are: [4]\n"
     ]
    }
   ],
   "source": [
    "Array = [1,2,3,4,5,6,4,7,8,9,0]\n",
    "length = len(Array)\n",
    "repeated =[]\n",
    "for i in range (length):\n",
    "    x = i + 1\n",
    "    for y in range (x,length):\n",
    "        if Array [i] == Array[y] and Array [i] not in repeated:\n",
    "            repeated.append(Array[i])\n",
    "            print(\"Repeated items are:\",repeated)\n",
    "    "
   ]
  },
  {
   "cell_type": "code",
   "execution_count": 1,
   "metadata": {},
   "outputs": [
    {
     "name": "stdout",
     "output_type": "stream",
     "text": [
      "Enter key to be varified:PL\n",
      "Key is already present here.\n",
      "value : Prof. Uzma\n"
     ]
    }
   ],
   "source": [
    "Faculty = {\n",
    "            \"OS\" : \"Dr. Wahab\",\n",
    "            \"PS\" : \"Engr. Touqeer\",\n",
    "            \"SDA\" : \"Dr. Shehnila\",\n",
    "            \"PL\" : \"Prof. Uzma\"\n",
    "}\n",
    "ver = input(\"Enter key to be varified:\")\n",
    "if ver in Faculty.keys():\n",
    "    print(\"Key is already present here.\")\n",
    "    print(\"value\", \":\", Faculty[ver])\n",
    "else:\n",
    "    print(\"Key is not present\")"
   ]
  },
  {
   "cell_type": "code",
   "execution_count": null,
   "metadata": {},
   "outputs": [],
   "source": []
  }
 ],
 "metadata": {
  "kernelspec": {
   "display_name": "Python 3",
   "language": "python",
   "name": "python3"
  },
  "language_info": {
   "codemirror_mode": {
    "name": "ipython",
    "version": 3
   },
   "file_extension": ".py",
   "mimetype": "text/x-python",
   "name": "python",
   "nbconvert_exporter": "python",
   "pygments_lexer": "ipython3",
   "version": "3.7.4"
  }
 },
 "nbformat": 4,
 "nbformat_minor": 2
}
